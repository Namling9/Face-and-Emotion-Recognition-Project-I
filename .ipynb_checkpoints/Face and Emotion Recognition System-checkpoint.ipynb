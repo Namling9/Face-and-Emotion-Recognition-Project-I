{
 "cells": [
  {
   "cell_type": "code",
   "execution_count": 1,
   "id": "f5452186-7292-4fcc-be3c-cf329f693243",
   "metadata": {},
   "outputs": [
    {
     "name": "stdout",
     "output_type": "stream",
     "text": [
      "Requirement already satisfied: tensorflow in ./myenv/lib/python3.12/site-packages (2.18.0)\n",
      "Requirement already satisfied: absl-py>=1.0.0 in ./myenv/lib/python3.12/site-packages (from tensorflow) (2.1.0)\n",
      "Requirement already satisfied: astunparse>=1.6.0 in ./myenv/lib/python3.12/site-packages (from tensorflow) (1.6.3)\n",
      "Requirement already satisfied: flatbuffers>=24.3.25 in ./myenv/lib/python3.12/site-packages (from tensorflow) (24.3.25)\n",
      "Requirement already satisfied: gast!=0.5.0,!=0.5.1,!=0.5.2,>=0.2.1 in ./myenv/lib/python3.12/site-packages (from tensorflow) (0.6.0)\n",
      "Requirement already satisfied: google-pasta>=0.1.1 in ./myenv/lib/python3.12/site-packages (from tensorflow) (0.2.0)\n",
      "Requirement already satisfied: libclang>=13.0.0 in ./myenv/lib/python3.12/site-packages (from tensorflow) (18.1.1)\n",
      "Requirement already satisfied: opt-einsum>=2.3.2 in ./myenv/lib/python3.12/site-packages (from tensorflow) (3.4.0)\n",
      "Requirement already satisfied: packaging in ./myenv/lib/python3.12/site-packages (from tensorflow) (24.2)\n",
      "Requirement already satisfied: protobuf!=4.21.0,!=4.21.1,!=4.21.2,!=4.21.3,!=4.21.4,!=4.21.5,<6.0.0dev,>=3.20.3 in ./myenv/lib/python3.12/site-packages (from tensorflow) (5.29.0)\n",
      "Requirement already satisfied: requests<3,>=2.21.0 in ./myenv/lib/python3.12/site-packages (from tensorflow) (2.32.3)\n",
      "Requirement already satisfied: setuptools in ./myenv/lib/python3.12/site-packages (from tensorflow) (75.6.0)\n",
      "Requirement already satisfied: six>=1.12.0 in ./myenv/lib/python3.12/site-packages (from tensorflow) (1.16.0)\n",
      "Requirement already satisfied: termcolor>=1.1.0 in ./myenv/lib/python3.12/site-packages (from tensorflow) (2.5.0)\n",
      "Requirement already satisfied: typing-extensions>=3.6.6 in ./myenv/lib/python3.12/site-packages (from tensorflow) (4.12.2)\n",
      "Requirement already satisfied: wrapt>=1.11.0 in ./myenv/lib/python3.12/site-packages (from tensorflow) (1.17.0)\n",
      "Requirement already satisfied: grpcio<2.0,>=1.24.3 in ./myenv/lib/python3.12/site-packages (from tensorflow) (1.68.1)\n",
      "Requirement already satisfied: tensorboard<2.19,>=2.18 in ./myenv/lib/python3.12/site-packages (from tensorflow) (2.18.0)\n",
      "Requirement already satisfied: keras>=3.5.0 in ./myenv/lib/python3.12/site-packages (from tensorflow) (3.7.0)\n",
      "Requirement already satisfied: numpy<2.1.0,>=1.26.0 in ./myenv/lib/python3.12/site-packages (from tensorflow) (2.0.2)\n",
      "Requirement already satisfied: h5py>=3.11.0 in ./myenv/lib/python3.12/site-packages (from tensorflow) (3.12.1)\n",
      "Requirement already satisfied: ml-dtypes<0.5.0,>=0.4.0 in ./myenv/lib/python3.12/site-packages (from tensorflow) (0.4.1)\n",
      "Requirement already satisfied: wheel<1.0,>=0.23.0 in ./myenv/lib/python3.12/site-packages (from astunparse>=1.6.0->tensorflow) (0.45.1)\n",
      "Requirement already satisfied: rich in ./myenv/lib/python3.12/site-packages (from keras>=3.5.0->tensorflow) (13.9.4)\n",
      "Requirement already satisfied: namex in ./myenv/lib/python3.12/site-packages (from keras>=3.5.0->tensorflow) (0.0.8)\n",
      "Requirement already satisfied: optree in ./myenv/lib/python3.12/site-packages (from keras>=3.5.0->tensorflow) (0.13.1)\n",
      "Requirement already satisfied: charset-normalizer<4,>=2 in ./myenv/lib/python3.12/site-packages (from requests<3,>=2.21.0->tensorflow) (3.4.0)\n",
      "Requirement already satisfied: idna<4,>=2.5 in ./myenv/lib/python3.12/site-packages (from requests<3,>=2.21.0->tensorflow) (3.10)\n",
      "Requirement already satisfied: urllib3<3,>=1.21.1 in ./myenv/lib/python3.12/site-packages (from requests<3,>=2.21.0->tensorflow) (2.2.3)\n",
      "Requirement already satisfied: certifi>=2017.4.17 in ./myenv/lib/python3.12/site-packages (from requests<3,>=2.21.0->tensorflow) (2024.8.30)\n",
      "Requirement already satisfied: markdown>=2.6.8 in ./myenv/lib/python3.12/site-packages (from tensorboard<2.19,>=2.18->tensorflow) (3.7)\n",
      "Requirement already satisfied: tensorboard-data-server<0.8.0,>=0.7.0 in ./myenv/lib/python3.12/site-packages (from tensorboard<2.19,>=2.18->tensorflow) (0.7.2)\n",
      "Requirement already satisfied: werkzeug>=1.0.1 in ./myenv/lib/python3.12/site-packages (from tensorboard<2.19,>=2.18->tensorflow) (3.1.3)\n",
      "Requirement already satisfied: MarkupSafe>=2.1.1 in ./myenv/lib/python3.12/site-packages (from werkzeug>=1.0.1->tensorboard<2.19,>=2.18->tensorflow) (3.0.2)\n",
      "Requirement already satisfied: markdown-it-py>=2.2.0 in ./myenv/lib/python3.12/site-packages (from rich->keras>=3.5.0->tensorflow) (3.0.0)\n",
      "Requirement already satisfied: pygments<3.0.0,>=2.13.0 in ./myenv/lib/python3.12/site-packages (from rich->keras>=3.5.0->tensorflow) (2.18.0)\n",
      "Requirement already satisfied: mdurl~=0.1 in ./myenv/lib/python3.12/site-packages (from markdown-it-py>=2.2.0->rich->keras>=3.5.0->tensorflow) (0.1.2)\n",
      "Note: you may need to restart the kernel to use updated packages.\n"
     ]
    }
   ],
   "source": [
    "pip install tensorflow"
   ]
  },
  {
   "cell_type": "code",
   "execution_count": 2,
   "id": "9d93fcf3-cf14-413c-a057-1cee5d7e5bbb",
   "metadata": {},
   "outputs": [
    {
     "name": "stdout",
     "output_type": "stream",
     "text": [
      "Requirement already satisfied: opencv-contrib-python in ./myenv/lib/python3.12/site-packages (4.10.0.84)\n",
      "Requirement already satisfied: numpy>=1.21.2 in ./myenv/lib/python3.12/site-packages (from opencv-contrib-python) (2.0.2)\n",
      "Note: you may need to restart the kernel to use updated packages.\n"
     ]
    }
   ],
   "source": [
    "pip install opencv-contrib-python"
   ]
  },
  {
   "cell_type": "code",
   "execution_count": 3,
   "id": "3a3fd0cf-f843-4288-a4ad-dd9bbe42397e",
   "metadata": {},
   "outputs": [
    {
     "name": "stdout",
     "output_type": "stream",
     "text": [
      "Requirement already satisfied: matplotlib in ./myenv/lib/python3.12/site-packages (3.9.3)\n",
      "Requirement already satisfied: contourpy>=1.0.1 in ./myenv/lib/python3.12/site-packages (from matplotlib) (1.3.1)\n",
      "Requirement already satisfied: cycler>=0.10 in ./myenv/lib/python3.12/site-packages (from matplotlib) (0.12.1)\n",
      "Requirement already satisfied: fonttools>=4.22.0 in ./myenv/lib/python3.12/site-packages (from matplotlib) (4.55.1)\n",
      "Requirement already satisfied: kiwisolver>=1.3.1 in ./myenv/lib/python3.12/site-packages (from matplotlib) (1.4.7)\n",
      "Requirement already satisfied: numpy>=1.23 in ./myenv/lib/python3.12/site-packages (from matplotlib) (2.0.2)\n",
      "Requirement already satisfied: packaging>=20.0 in ./myenv/lib/python3.12/site-packages (from matplotlib) (24.2)\n",
      "Requirement already satisfied: pillow>=8 in ./myenv/lib/python3.12/site-packages (from matplotlib) (11.0.0)\n",
      "Requirement already satisfied: pyparsing>=2.3.1 in ./myenv/lib/python3.12/site-packages (from matplotlib) (3.2.0)\n",
      "Requirement already satisfied: python-dateutil>=2.7 in ./myenv/lib/python3.12/site-packages (from matplotlib) (2.9.0.post0)\n",
      "Requirement already satisfied: six>=1.5 in ./myenv/lib/python3.12/site-packages (from python-dateutil>=2.7->matplotlib) (1.16.0)\n",
      "Note: you may need to restart the kernel to use updated packages.\n"
     ]
    }
   ],
   "source": [
    "pip install matplotlib"
   ]
  },
  {
   "cell_type": "code",
   "execution_count": 4,
   "id": "e6758785-0bfb-420f-9f7c-404c8fbf26d4",
   "metadata": {},
   "outputs": [
    {
     "name": "stdout",
     "output_type": "stream",
     "text": [
      "Requirement already satisfied: numpy in ./myenv/lib/python3.12/site-packages (2.0.2)\n",
      "Note: you may need to restart the kernel to use updated packages.\n"
     ]
    }
   ],
   "source": [
    "pip install numpy"
   ]
  },
  {
   "cell_type": "markdown",
   "id": "e9b29b92-b2d3-4f63-8e8e-0b47789de768",
   "metadata": {},
   "source": [
    "### Folders Name inside train dataset\n",
    "\n",
    "- 0 - Angry\n",
    "- 1 - Disgust\n",
    "- 2 - Fear\n",
    "- 3 - Happy\n",
    "- 4 - Neutral\n",
    "- 5 - Sad\n",
    "- 6 - Surprise\""
   ]
  },
  {
   "cell_type": "code",
   "execution_count": 1,
   "id": "0fed0fd4-d140-439b-965c-42d99fea39d8",
   "metadata": {},
   "outputs": [
    {
     "name": "stderr",
     "output_type": "stream",
     "text": [
      "2024-12-04 00:44:31.804648: E external/local_xla/xla/stream_executor/cuda/cuda_fft.cc:477] Unable to register cuFFT factory: Attempting to register factory for plugin cuFFT when one has already been registered\n",
      "WARNING: All log messages before absl::InitializeLog() is called are written to STDERR\n",
      "E0000 00:00:1733252371.828988   17884 cuda_dnn.cc:8310] Unable to register cuDNN factory: Attempting to register factory for plugin cuDNN when one has already been registered\n",
      "E0000 00:00:1733252371.836393   17884 cuda_blas.cc:1418] Unable to register cuBLAS factory: Attempting to register factory for plugin cuBLAS when one has already been registered\n",
      "2024-12-04 00:44:31.864172: I tensorflow/core/platform/cpu_feature_guard.cc:210] This TensorFlow binary is optimized to use available CPU instructions in performance-critical operations.\n",
      "To enable the following instructions: AVX2 FMA, in other operations, rebuild TensorFlow with the appropriate compiler flags.\n"
     ]
    }
   ],
   "source": [
    "import tensorflow as tf\n",
    "import cv2\n",
    "import os\n",
    "import matplotlib.pyplot as plt\n",
    "import numpy as np"
   ]
  },
  {
   "cell_type": "code",
   "execution_count": 2,
   "id": "c53f03d4-df65-448d-9ee1-994973db9319",
   "metadata": {},
   "outputs": [
    {
     "name": "stdout",
     "output_type": "stream",
     "text": [
      "Num GPUs Available:  1\n",
      "GPUs are available: ['/physical_device:GPU:0']\n"
     ]
    }
   ],
   "source": [
    "print(\"Num GPUs Available: \", len(tf.config.list_physical_devices('GPU')))\n",
    "# Check if GPUs are available\n",
    "gpus = tf.config.list_physical_devices('GPU')\n",
    "if gpus:\n",
    "    print(f\"GPUs are available: {[gpu.name for gpu in gpus]}\")\n",
    "else:\n",
    "    print(\"No GPUs are available.\")\n",
    "\n",
    "\n"
   ]
  },
  {
   "cell_type": "code",
   "execution_count": 3,
   "id": "fa72f037-2e65-4ff0-927c-c78c886104ff",
   "metadata": {},
   "outputs": [],
   "source": [
    "img_array = cv2.imread(\"Image_Dataset/train/0/Training_3908.jpg\")"
   ]
  },
  {
   "cell_type": "code",
   "execution_count": 4,
   "id": "d72c0358-cbf6-4e9c-87d8-0f74ae2d3c89",
   "metadata": {},
   "outputs": [
    {
     "data": {
      "text/plain": [
       "(48, 48, 3)"
      ]
     },
     "execution_count": 4,
     "metadata": {},
     "output_type": "execute_result"
    }
   ],
   "source": [
    "img_array.shape # rgb"
   ]
  },
  {
   "cell_type": "markdown",
   "id": "2d2d7f61-7c92-4d40-9f1d-cf8bf6436605",
   "metadata": {},
   "source": [
    "- when you load an image in OpenCV using cv2.imread(), the color channels are stored in BGR order, not RGB."
   ]
  },
  {
   "cell_type": "code",
   "execution_count": 20,
   "id": "f81a1d30-a3bf-41c1-9592-a142cc2b2466",
   "metadata": {},
   "outputs": [
    {
     "name": "stdout",
     "output_type": "stream",
     "text": [
      "[[[ 33  33  33]\n",
      "  [ 36  36  36]\n",
      "  [ 30  30  30]\n",
      "  ...\n",
      "  [ 30  30  30]\n",
      "  [ 38  38  38]\n",
      "  [ 59  59  59]]\n",
      "\n",
      " [[ 31  31  31]\n",
      "  [ 29  29  29]\n",
      "  [ 37  37  37]\n",
      "  ...\n",
      "  [ 26  26  26]\n",
      "  [ 34  34  34]\n",
      "  [ 47  47  47]]\n",
      "\n",
      " [[ 48  48  48]\n",
      "  [ 51  51  51]\n",
      "  [ 53  53  53]\n",
      "  ...\n",
      "  [ 28  28  28]\n",
      "  [ 34  34  34]\n",
      "  [ 41  41  41]]\n",
      "\n",
      " ...\n",
      "\n",
      " [[209 209 209]\n",
      "  [191 191 191]\n",
      "  [197 197 197]\n",
      "  ...\n",
      "  [149 149 149]\n",
      "  [154 154 154]\n",
      "  [177 177 177]]\n",
      "\n",
      " [[212 212 212]\n",
      "  [192 192 192]\n",
      "  [190 190 190]\n",
      "  ...\n",
      "  [151 151 151]\n",
      "  [153 153 153]\n",
      "  [169 169 169]]\n",
      "\n",
      " [[214 214 214]\n",
      "  [201 201 201]\n",
      "  [189 189 189]\n",
      "  ...\n",
      "  [150 150 150]\n",
      "  [153 153 153]\n",
      "  [160 160 160]]]\n"
     ]
    }
   ],
   "source": [
    "print(img_array)"
   ]
  },
  {
   "cell_type": "code",
   "execution_count": 5,
   "id": "b773ee8d-2b9b-4d55-9839-de83992964af",
   "metadata": {},
   "outputs": [
    {
     "data": {
      "text/plain": [
       "<matplotlib.image.AxesImage at 0x743400bb0290>"
      ]
     },
     "execution_count": 5,
     "metadata": {},
     "output_type": "execute_result"
    },
    {
     "data": {
      "image/png": "[encoded data removed]",
      "text/plain": [
       "<Figure size 640x480 with 1 Axes>"
      ]
     },
     "metadata": {},
     "output_type": "display_data"
    }
   ],
   "source": [
    "plt.imshow(img_array) # brg"
   ]
  },
  {
   "cell_type": "code",
   "execution_count": 6,
   "id": "0f771de8-157c-4724-9924-074352c0daf3",
   "metadata": {},
   "outputs": [],
   "source": [
    "data_directory = \"Image_Dataset/train/\" # Training Dataset"
   ]
  },
  {
   "cell_type": "code",
   "execution_count": 7,
   "id": "9b9ec3e6-512c-465c-94b9-abe5ab99f080",
   "metadata": {},
   "outputs": [],
   "source": [
    "classes = ['0','1','2','3','4','5','6'] # list of classes [exact names of folders inside train folder]"
   ]
  },
  {
   "cell_type": "code",
   "execution_count": 8,
   "id": "de8f2f58-0ab8-4ffc-add9-d86407f34b17",
   "metadata": {},
   "outputs": [
    {
     "data": {
      "image/png": "[encoded data removed]",
      "text/plain": [
       "<Figure size 640x480 with 1 Axes>"
      ]
     },
     "metadata": {},
     "output_type": "display_data"
    }
   ],
   "source": [
    "for category in classes: \n",
    "    '''The classes variable is expected to be a \n",
    "list or iterable containing category names (['0', '1', '2','3','4','5','6']). \n",
    "This loop iterates over each class in the dataset.'''\n",
    "    \n",
    "    path = os.path.join(data_directory, category) \n",
    "    '''Combines the base directory (data_directory) \n",
    "    with the current category name (category) to create a full path to that category's folder.'''\n",
    "    \n",
    "    for img in os.listdir(path): \n",
    "        '''Lists all image files in the path directory (the category folder).\n",
    "    This loop will iterate over the filenames of images in the category folder.'''\n",
    "         \n",
    "        img_array = cv2.imread(os.path.join(path,img)) \n",
    "        '''Reads the image using cv2.imread() at the path\n",
    "        formed by joining path and img. The result is stored in img_array, \n",
    "        which will be a NumPy array representing the image.'''\n",
    "\n",
    "        plt.imshow(cv2.cvtColor(img_array, cv2.COLOR_BGR2RGB)) \n",
    "        '''cv2.cvtColor(img_array, cv2.COLOR_BGR2RGB) converts the image\n",
    "        from BGR (OpenCV default) to RGB (common for displaying images in libraries like Matplotlib).\n",
    "        plt.imshow() is used to display the image using Matplotlib.'''\n",
    "\n",
    "        plt.show() \n",
    "        '''This command displays the image using Matplotlib’s default viewer.\n",
    "                      The image will appear in a pop-up window.'''\n",
    "        \n",
    "        break \n",
    "        '''The first break is inside the image loop. It breaks out of the \n",
    "                 inner loop after displaying justone image from the path directory.\n",
    "                 \n",
    "                 The second break is inside the category loop. It breaks out of the outer \n",
    "                 loop after processing just one image from the first category, meaning only one image\n",
    "                 from the first category will be displayed.\n",
    "'''\n",
    "    break"
   ]
  },
  {
   "cell_type": "markdown",
   "id": "128db216-a063-462a-bce5-cdb78c047190",
   "metadata": {},
   "source": [
    "### Changing image size"
   ]
  },
  {
   "cell_type": "code",
   "execution_count": 9,
   "id": "d51a64e6-20d7-47b7-902d-912999561d79",
   "metadata": {},
   "outputs": [
    {
     "data": {
      "image/png": "[encoded data removed]",
      "text/plain": [
       "<Figure size 640x480 with 1 Axes>"
      ]
     },
     "metadata": {},
     "output_type": "display_data"
    }
   ],
   "source": [
    "img_size = 112 # New image size (224 X 224)\n",
    "\n",
    "# Resize the image\n",
    "new_array = cv2.resize(img_array, (img_size,img_size)) # resizing image to ( 224 X 224)\n",
    "\n",
    "# Convert BGR to RGB for displaying with matplotlib\n",
    "plt.imshow(cv2.cvtColor(new_array, (cv2.COLOR_BGR2RGB)))\n",
    "\n",
    "# show the image\n",
    "plt.show()"
   ]
  },
  {
   "cell_type": "code",
   "execution_count": 10,
   "id": "bc87731f-01e4-4a58-8b1c-77f4246c5d44",
   "metadata": {},
   "outputs": [
    {
     "data": {
      "text/plain": [
       "(112, 112, 3)"
      ]
     },
     "execution_count": 10,
     "metadata": {},
     "output_type": "execute_result"
    }
   ],
   "source": [
    "new_array.shape "
   ]
  },
  {
   "cell_type": "markdown",
   "id": "65c285ae-321a-4308-b380-b895d3625c4c",
   "metadata": {},
   "source": [
    "- `224 (Height)`: The number of pixels along the vertical axis (image height).\n",
    "- `224 (Width)`: The number of pixels along the horizontal axis (image width).\n",
    "- `3 (Channels)`: The number of color channels. In the case of color images:\n",
    "    - 3 channels represent the `Red, Green, and Blue` channels in the RGB color space.\n"
   ]
  },
  {
   "cell_type": "markdown",
   "id": "dfbf781e-f33e-4ccd-b3e4-b1c421b91d3b",
   "metadata": {},
   "source": [
    "## Read all images and convert them to an array"
   ]
  },
  {
   "cell_type": "code",
   "execution_count": 11,
   "id": "9849646a-a6bf-4f76-840b-2e1ef0185647",
   "metadata": {},
   "outputs": [],
   "source": [
    "training_data = [] #data array\n",
    "\n",
    "valid_extensions = ('.jpg', '.jpeg', '.png')\n",
    "\n",
    "def creating_training_data():\n",
    "\n",
    "    for category in classes:\n",
    "        path = os.path.join(data_directory, category) \n",
    "        class_num = classes.index(category) # 0,1,2,3,4,5,6\n",
    "        \n",
    "\n",
    "        for img in os.listdir(path): \n",
    "            \n",
    "            if img.startswith('.ipynb'):  # Skip hidden files\n",
    "                print(f\"Skipping hidden file: {img}\")\n",
    "                continue\n",
    "             \n",
    "            if not img.endswith(valid_extensions):   # Check for valid extensions\n",
    "                 print(f\"Skipping non-image file: {img}\")\n",
    "                 continue\n",
    "            \n",
    "            try:\n",
    "                img_array = cv2.imread(os.path.join(path,img)) \n",
    "                '''cv2.imread() reads the image file into an array \n",
    "                (a NumPy array representing the image’s pixel values).\n",
    "                os.path.join(path, img) constructs the full path to the image file.'''\n",
    "                \n",
    "                if img_array is None:\n",
    "                    print(f\"Image {img} could not be read. Skipping.\")\n",
    "                    continue\n",
    "                # Resize the image\n",
    "                new_array = cv2.resize(img_array, (img_size,img_size)) # resizing image to ( 224 X 224)\n",
    "                training_data.append([new_array,class_num])\n",
    "                '''Appends a list containing the processed image (new_array) and \n",
    "                its corresponding class label (class_num) to training_data.'''\n",
    "               \n",
    "            except Exception as e:\n",
    "                print(f\"Error processing image {img}: {e}\")\n",
    "        "
   ]
  },
  {
   "cell_type": "code",
   "execution_count": 12,
   "id": "fd9e6858-c4e4-4268-9845-687191997f88",
   "metadata": {},
   "outputs": [],
   "source": [
    "creating_training_data()"
   ]
  },
  {
   "cell_type": "code",
   "execution_count": 13,
   "id": "deec9cc6-1877-4bda-8890-0c5a6ac0417c",
   "metadata": {},
   "outputs": [
    {
     "name": "stdout",
     "output_type": "stream",
     "text": [
      "28709\n"
     ]
    }
   ],
   "source": [
    "print(len(training_data))"
   ]
  },
  {
   "cell_type": "code",
   "execution_count": 14,
   "id": "24889bd8-5715-4f78-a5fe-65177a87fc70",
   "metadata": {},
   "outputs": [
    {
     "data": {
      "text/plain": [
       "(112, 112, 3)"
      ]
     },
     "execution_count": 14,
     "metadata": {},
     "output_type": "execute_result"
    }
   ],
   "source": [
    "new_array.shape"
   ]
  },
  {
   "cell_type": "code",
   "execution_count": 15,
   "id": "32fec368-8c44-4b14-b321-4682540f6309",
   "metadata": {},
   "outputs": [],
   "source": [
    "import random\n",
    "\n",
    "random.shuffle(training_data)"
   ]
  },
  {
   "cell_type": "markdown",
   "id": "e7141fe1-3d3a-442a-a67c-41f3bbf2809f",
   "metadata": {},
   "source": [
    "- Shuffling `training_data` randomly because we don't want our model to learn sequencially but learn dynamically and making training dataset robust ."
   ]
  },
  {
   "cell_type": "code",
   "execution_count": 16,
   "id": "2e300308-ebdb-42c9-bae5-1d32218ef508",
   "metadata": {},
   "outputs": [
    {
     "name": "stdout",
     "output_type": "stream",
     "text": [
      "Batch 1: X shape: (5000, 112, 112, 3), y shape: (5000,)\n",
      "Batch 2: X shape: (5000, 112, 112, 3), y shape: (5000,)\n",
      "Batch 3: X shape: (5000, 112, 112, 3), y shape: (5000,)\n",
      "Batch 4: X shape: (5000, 112, 112, 3), y shape: (5000,)\n",
      "Batch 5: X shape: (5000, 112, 112, 3), y shape: (5000,)\n",
      "Batch 6: X shape: (3709, 112, 112, 3), y shape: (3709,)\n"
     ]
    }
   ],
   "source": [
    "batch_size = 5000  # Adjust based on system capacity\n",
    "for i in range(0, len(training_data), batch_size):\n",
    "    batch = training_data[i:i + batch_size]\n",
    "    \n",
    "    # Create NumPy arrays for the batch\n",
    "    X = np.array([data[0] for data in batch])  # Extract image arrays\n",
    "    y = np.array([data[1] for data in batch])  # Extract class labels\n",
    "    \n",
    "    # Reshape X into a 4D array with dimensions (-1, img_size, img_size, 3)\n",
    "    X = X.reshape(-1, img_size, img_size, 3)\n",
    "    \n",
    "    print(f\"Batch {i // batch_size + 1}: X shape: {X.shape}, y shape: {y.shape}\") # Converting it into 4th dimension.\n"
   ]
  },
  {
   "cell_type": "code",
   "execution_count": 17,
   "id": "ebe4b727-4c89-411a-9cb6-a0bc8f05e014",
   "metadata": {},
   "outputs": [
    {
     "data": {
      "text/plain": [
       "(3709, 112, 112, 3)"
      ]
     },
     "execution_count": 17,
     "metadata": {},
     "output_type": "execute_result"
    }
   ],
   "source": [
    "X.shape "
   ]
  },
  {
   "cell_type": "code",
   "execution_count": null,
   "id": "f1ad2213-d4f5-490c-8732-e799994ec360",
   "metadata": {},
   "outputs": [],
   "source": []
  },
  {
   "cell_type": "markdown",
   "id": "22cd474d-814e-4f4c-9e17-c08f1b076839",
   "metadata": {},
   "source": [
    "## Normalization"
   ]
  },
  {
   "cell_type": "code",
   "execution_count": 18,
   "id": "8c3a511c-d7bc-4e6e-ae1e-f8ff726018ff",
   "metadata": {},
   "outputs": [],
   "source": [
    "X = X/255.0  #Normalizing pixel value"
   ]
  },
  {
   "cell_type": "code",
   "execution_count": 19,
   "id": "2dd7da09-8de7-4f56-b1ca-3b2810655f91",
   "metadata": {},
   "outputs": [
    {
     "name": "stdout",
     "output_type": "stream",
     "text": [
      "Min pixel value: 0.0, Max pixel value: 1.0\n"
     ]
    }
   ],
   "source": [
    "print(f\"Min pixel value: {X.min()}, Max pixel value: {X.max()}\")\n"
   ]
  },
  {
   "cell_type": "code",
   "execution_count": 21,
   "id": "4e2fe0b0-af8a-4d24-a8a5-fc327c39f7bf",
   "metadata": {},
   "outputs": [
    {
     "data": {
      "text/plain": [
       "(3709,)"
      ]
     },
     "execution_count": 21,
     "metadata": {},
     "output_type": "execute_result"
    }
   ],
   "source": [
    "y.shape"
   ]
  },
  {
   "cell_type": "code",
   "execution_count": 22,
   "id": "3f520945-fe29-4c94-b33a-46f8fbf77687",
   "metadata": {},
   "outputs": [
    {
     "data": {
      "text/plain": [
       "np.int64(3)"
      ]
     },
     "execution_count": 22,
     "metadata": {},
     "output_type": "execute_result"
    }
   ],
   "source": [
    "y[0] # We shuffle labels randomly so output can come random 0 - 6"
   ]
  },
  {
   "cell_type": "markdown",
   "id": "757d32ea-ec7c-4bb5-8e6d-3002917451aa",
   "metadata": {},
   "source": [
    "## Deep learning models for training - Transfer Learning"
   ]
  },
  {
   "cell_type": "code",
   "execution_count": null,
   "id": "7a1eb522-6737-4917-9fae-0b88db234a4d",
   "metadata": {},
   "outputs": [],
   "source": []
  }
 ],
 "metadata": {
  "kernelspec": {
   "display_name": "Python 3 (ipykernel)",
   "language": "python",
   "name": "python3"
  },
  "language_info": {
   "codemirror_mode": {
    "name": "ipython",
    "version": 3
   },
   "file_extension": ".py",
   "mimetype": "text/x-python",
   "name": "python",
   "nbconvert_exporter": "python",
   "pygments_lexer": "ipython3",
   "version": "3.12.3"
  }
 },
 "nbformat": 4,
 "nbformat_minor": 5
}
