{
 "cells": [
  {
   "cell_type": "code",
   "execution_count": 2,
   "id": "76b3f678-483d-46e0-a324-8b3fc9261009",
   "metadata": {},
   "outputs": [
    {
     "name": "stderr",
     "output_type": "stream",
     "text": [
      "2024-12-15 23:10:42.237034: E external/local_xla/xla/stream_executor/cuda/cuda_fft.cc:477] Unable to register cuFFT factory: Attempting to register factory for plugin cuFFT when one has already been registered\n",
      "WARNING: All log messages before absl::InitializeLog() is called are written to STDERR\n",
      "E0000 00:00:1734283542.254548   63453 cuda_dnn.cc:8310] Unable to register cuDNN factory: Attempting to register factory for plugin cuDNN when one has already been registered\n",
      "E0000 00:00:1734283542.260017   63453 cuda_blas.cc:1418] Unable to register cuBLAS factory: Attempting to register factory for plugin cuBLAS when one has already been registered\n",
      "2024-12-15 23:10:42.279140: I tensorflow/core/platform/cpu_feature_guard.cc:210] This TensorFlow binary is optimized to use available CPU instructions in performance-critical operations.\n",
      "To enable the following instructions: AVX2 FMA, in other operations, rebuild TensorFlow with the appropriate compiler flags.\n"
     ]
    }
   ],
   "source": [
    "import tensorflow as tf\n",
    "import cv2\n",
    "import os\n",
    "import matplotlib.pyplot as plt\n",
    "import numpy as np\n",
    "import pandas as pd\n",
    "import math\n",
    "import os\n",
    "os.environ['TF_GPU_ALLOCATOR'] = 'cuda_malloc_async'\n"
   ]
  },
  {
   "cell_type": "markdown",
   "id": "48458f6b-bc5d-499a-8f60-00fb75a33426",
   "metadata": {},
   "source": [
    "## Loading Pre-trained Model"
   ]
  },
  {
   "cell_type": "code",
   "execution_count": 3,
   "id": "b1d0ce9f-027e-49e7-ac41-6809b7fe6183",
   "metadata": {},
   "outputs": [
    {
     "name": "stderr",
     "output_type": "stream",
     "text": [
      "I0000 00:00:1734283544.486408   63453 gpu_process_state.cc:201] Using CUDA malloc Async allocator for GPU: 0\n",
      "I0000 00:00:1734283544.486622   63453 gpu_device.cc:2022] Created device /job:localhost/replica:0/task:0/device:GPU:0 with 1265 MB memory:  -> device: 0, name: NVIDIA GeForce RTX 2050, pci bus id: 0000:01:00.0, compute capability: 8.6\n"
     ]
    }
   ],
   "source": [
    "model = tf.keras.models.load_model('emotion_recognition_model_tf.keras')"
   ]
  },
  {
   "cell_type": "code",
   "execution_count": 8,
   "id": "523df837-f233-4230-b7b5-a111ea61c83e",
   "metadata": {},
   "outputs": [
    {
     "name": "stdout",
     "output_type": "stream",
     "text": [
      "Collecting opencv-python\n",
      "  Downloading opencv_python-4.10.0.84-cp37-abi3-manylinux_2_17_x86_64.manylinux2014_x86_64.whl.metadata (20 kB)\n",
      "Requirement already satisfied: numpy>=1.21.2 in ./myenv/lib/python3.12/site-packages (from opencv-python) (2.0.2)\n",
      "Downloading opencv_python-4.10.0.84-cp37-abi3-manylinux_2_17_x86_64.manylinux2014_x86_64.whl (62.5 MB)\n",
      "\u001b[2K   \u001b[38;2;114;156;31m━━━━━━━━━━━━━━━━━━━━━━━━━━━━━━━━━━━━━━━━\u001b[0m \u001b[32m62.5/62.5 MB\u001b[0m \u001b[31m4.5 MB/s\u001b[0m eta \u001b[36m0:00:00\u001b[0mm eta \u001b[36m0:00:01\u001b[0m[36m0:00:01\u001b[0mm\n",
      "\u001b[?25hInstalling collected packages: opencv-python\n",
      "Successfully installed opencv-python-4.10.0.84\n",
      "Note: you may need to restart the kernel to use updated packages.\n"
     ]
    }
   ],
   "source": [
    "pip install --upgrade opencv-python"
   ]
  },
  {
   "cell_type": "code",
   "execution_count": 5,
   "id": "92c27c2f-28dc-4aad-82f8-6a372e1eb5b8",
   "metadata": {},
   "outputs": [
    {
     "name": "stdout",
     "output_type": "stream",
     "text": [
      "Requirement already satisfied: opencv-python in ./myenv/lib/python3.12/site-packages (4.10.0.84)\n",
      "Requirement already satisfied: opencv-python-headless in ./myenv/lib/python3.12/site-packages (4.10.0.84)\n",
      "Requirement already satisfied: numpy>=1.21.2 in ./myenv/lib/python3.12/site-packages (from opencv-python) (2.0.2)\n",
      "Note: you may need to restart the kernel to use updated packages.\n"
     ]
    }
   ],
   "source": [
    "pip install --upgrade opencv-python opencv-python-headless\n"
   ]
  },
  {
   "cell_type": "markdown",
   "id": "bb37191a-df16-4138-beef-e725e7adb1ed",
   "metadata": {},
   "source": [
    "# WebCam code"
   ]
  },
  {
   "cell_type": "code",
   "execution_count": null,
   "id": "7d16d9b3-2719-4649-ae52-c0fa811b2d1e",
   "metadata": {},
   "outputs": [
    {
     "ename": "NameError",
     "evalue": "name 'cv2' is not defined",
     "output_type": "error",
     "traceback": [
      "\u001b[0;31m---------------------------------------------------------------------------\u001b[0m",
      "\u001b[0;31mNameError\u001b[0m                                 Traceback (most recent call last)",
      "Cell \u001b[0;32mIn[1], line 3\u001b[0m\n\u001b[1;32m      1\u001b[0m path \u001b[38;5;241m=\u001b[39m \u001b[38;5;124m'\u001b[39m\u001b[38;5;124mhaarcascade_frontalface_default.xml\u001b[39m\u001b[38;5;124m'\u001b[39m\n\u001b[1;32m      2\u001b[0m font_scale \u001b[38;5;241m=\u001b[39m \u001b[38;5;241m1.5\u001b[39m\n\u001b[0;32m----> 3\u001b[0m font \u001b[38;5;241m=\u001b[39m \u001b[43mcv2\u001b[49m\u001b[38;5;241m.\u001b[39mFONT_HERSHEY_PLAIN\n\u001b[1;32m      5\u001b[0m \u001b[38;5;66;03m# set the rectangle background to white\u001b[39;00m\n\u001b[1;32m      6\u001b[0m rectangle_bgr \u001b[38;5;241m=\u001b[39m (\u001b[38;5;241m255\u001b[39m,\u001b[38;5;241m255\u001b[39m,\u001b[38;5;241m255\u001b[39m)\n",
      "\u001b[0;31mNameError\u001b[0m: name 'cv2' is not defined"
     ]
    }
   ],
   "source": [
    "\n",
    "path = 'haarcascade_frontalface_default.xml'\n",
    "font_scale = 1.5\n",
    "font = cv2.FONT_HERSHEY_PLAIN\n",
    "\n",
    "# set the rectangle background to white\n",
    "rectangle_bgr = (255,255,255)\n",
    "\n",
    "# Make a black image\n",
    "img = np.zeros((500,500))\n",
    "\n",
    "# set some text\n",
    "text = 'Some text in box'\n",
    "\n",
    "#get the width and height of the text box\n",
    "(text_width, text_height) = cv2.getTextSize(text, font, fontScale = font_scale, thickness = 1)[0]\n",
    "\n",
    "# set the text start position\n",
    "text_offset_x = 10\n",
    "text_offset_y = img.shape[0] - 25\n",
    "\n",
    "# make the coords of the box with a small padding of two pixels\n",
    "box_coords = ((text_offset_x, text_offset_y), (text_offset_x + text_width + 2, text_offset_y - text_height - 2))\n",
    "cv2.rectangle(img, box_coords[0], box_coords[1], rectangle_bgr, cv2.FILLED)\n",
    "cv2.putText(img, text, (text_offset_x, text_offset_y), font, fontScale = font_scale, color = (0,0,0), thickness = 1)\n",
    "\n",
    "cap = cv2.VideoCapture(0)\n",
    "\n",
    "# Check if webcam is opened properly and correctly\n",
    "\n",
    "if not cap.isOpened():\n",
    "    cap = cv2.VideoCapture(1)\n",
    "if not cap.isOpened():\n",
    "    raise IOError('Cannot open webcam')\n",
    "\n",
    "while True:\n",
    "    ret,frame = cap.read()\n",
    "    faceCascade = cv2.CascadeClassifier(cv2.data.haarcascades + 'haarcascade_frontalface_default.xml')\n",
    "    gray = cv2.cvtColor(frame, cv2.COLOR_BGR2GRAY)\n",
    "    faces = faceCascade.detectMultiScale(gray,1.1,4)\n",
    "    for x,y,w,h in faces:\n",
    "        roi_gray = gray[y: y+h, x: x+w]\n",
    "        roi_color = frame[y : y+h, x: x+w]\n",
    "        cv2.rectangle(frame, (x,y), (x+w, y+h), (255,0,0), 2)\n",
    "        faces1 = faceCascade.detectMultiScale(roi_gray)\n",
    "        if len(faces1) == 0:\n",
    "            print('Face not detected!!')\n",
    "        else:\n",
    "            for(ex, ey, ew, eh) in faces1:\n",
    "                face_roi = roi_color[ey: ey+eh, ex: ex+ew] ## cropping the face \n",
    "    \n",
    "    final_image = cv2.resize(face_roi, (48,48))\n",
    "    final_image = np.expand_dims(final_image, axis = 0) # need fourth dimensions\n",
    "    final_image = final_image/255.0 ## Normalizing\n",
    "    \n",
    "    font = cv2.FONT_HERSHEY_SIMPLEX\n",
    "    \n",
    "    prediction = model.predict(final_image)\n",
    "\n",
    "    font_scale = 1.5\n",
    "    font = cv2.FONT_HERSHEY_PLAIN\n",
    "\n",
    "    if (np.argmax(prediction) == 0):\n",
    "        status = 'Angry'\n",
    "        x1,y1,w1,h1 = 0,0,175,75\n",
    "        # Draw black background rectangle\n",
    "        cv2.rectangle(frame,(x1, x1), (x1+w1, y1+h1), (0,0,0), -1)\n",
    "        # add text\n",
    "        cv2.putText(frame,status, (x1 + int(w1/10), y1 + int(h1/2)), cv2.FONT_HERSHEY_SIMPLEX, 0.7, (0,0,255), 2)\n",
    "        cv2.putText(frame, status, (100, 150), font, 3, (0,0,255),2, cv2.LINE_4)\n",
    "        cv2.rectangle(frame, (x,y), (x+w, y+h), (0,0,255))\n",
    "        \n",
    "    elif (np.argmax(prediction) == 1) :\n",
    "        status = 'Disgust'\n",
    "        x1,y1,w1,h1 = 0,0,175,75\n",
    "        # Draw black background rectangle\n",
    "        cv2.rectangle(frame,(x1, x1), (x1+w1, y1+h1), (0,0,0), -1)\n",
    "        # add text\n",
    "        cv2.putText(frame,status, (x1 + int(w1/10), y1 + int(h1/2)), cv2.FONT_HERSHEY_SIMPLEX, 0.7, (0,0,255), 2)\n",
    "        cv2.putText(frame, status, (100, 150), font, 3, (0,0,255),2, cv2.LINE_4)\n",
    "        cv2.rectangle(frame, (x,y), (x+w, y+h), (0,0,255))\n",
    "    \n",
    "    elif (np.argmax(prediction) == 2) :\n",
    "        status = 'Fear'\n",
    "        x1,y1,w1,h1 = 0,0,175,75\n",
    "        # Draw black background rectangle\n",
    "        cv2.rectangle(frame,(x1, x1), (x1+w1, y1+h1), (0,0,0), -1)\n",
    "        # add text\n",
    "        cv2.putText(frame,status, (x1 + int(w1/10), y1 + int(h1/2)), cv2.FONT_HERSHEY_SIMPLEX, 0.7, (0,0,255), 2)\n",
    "        cv2.putText(frame, status, (100, 150), font, 3, (0,0,255),2, cv2.LINE_4)\n",
    "        cv2.rectangle(frame, (x,y), (x+w, y+h), (0,0,255)) \n",
    "    \n",
    "    elif (np.argmax(prediction) == 3) :\n",
    "        status = 'Happy'\n",
    "        x1,y1,w1,h1 = 0,0,175,75\n",
    "        # Draw black background rectangle\n",
    "        cv2.rectangle(frame,(x1, x1), (x1+w1, y1+h1), (0,0,0), -1)\n",
    "        # add text\n",
    "        cv2.putText(frame,status, (x1 + int(w1/10), y1 + int(h1/2)), cv2.FONT_HERSHEY_SIMPLEX, 0.7, (0,0,255), 2)\n",
    "        cv2.putText(frame, status, (100, 150), font, 3, (0,0,255),2, cv2.LINE_4)\n",
    "        cv2.rectangle(frame, (x,y), (x+w, y+h), (0,0,255)) \n",
    "    \n",
    "    elif (np.argmax(prediction) == 4) :\n",
    "        status = 'Sad'\n",
    "        x1,y1,w1,h1 = 0,0,175,75\n",
    "        # Draw black background rectangle\n",
    "        cv2.rectangle(frame,(x1, x1), (x1+w1, y1+h1), (0,0,0), -1)\n",
    "        # add text\n",
    "        cv2.putText(frame,status, (x1 + int(w1/10), y1 + int(h1/2)), cv2.FONT_HERSHEY_SIMPLEX, 0.7, (0,0,255), 2)\n",
    "        cv2.putText(frame, status, (100, 150), font, 3, (0,0,255),2, cv2.LINE_4)\n",
    "        cv2.rectangle(frame, (x,y), (x+w, y+h), (0,0,255)) \n",
    "   \n",
    "    elif (np.argmax(prediction) == 5) :\n",
    "        status = 'Surprise'\n",
    "        x1,y1,w1,h1 = 0,0,175,75\n",
    "        # Draw black background rectangle\n",
    "        cv2.rectangle(frame,(x1, x1), (x1+w1, y1+h1), (0,0,0), -1)\n",
    "        # add text\n",
    "        cv2.putText(frame,status, (x1 + int(w1/10), y1 + int(h1/2)), cv2.FONT_HERSHEY_SIMPLEX, 0.7, (0,0,255), 2)\n",
    "        cv2.putText(frame, status, (100, 150), font, 3, (0,0,255),2, cv2.LINE_4)\n",
    "        cv2.rectangle(frame, (x,y), (x+w, y+h), (0,0,255)) \n",
    "    \n",
    "    elif (np.argmax(prediction) == 6) :\n",
    "        status = 'Neutral'\n",
    "        x1,y1,w1,h1 = 0,0,175,75\n",
    "        # Draw black background rectangle\n",
    "        cv2.rectangle(frame,(x1, x1), (x1+w1, y1+h1), (0,0,0), -1)\n",
    "        # add text\n",
    "        cv2.putText(frame,status, (x1 + int(w1/10), y1 + int(h1/2)), cv2.FONT_HERSHEY_SIMPLEX, 0.7, (0,0,255), 2)\n",
    "        cv2.putText(frame, status, (100, 150), font, 3, (0,0,255),2, cv2.LINE_4)\n",
    "        cv2.rectangle(frame, (x,y), (x+w, y+h), (0,0,255)) \n",
    "     \n",
    "    \n",
    "     \n",
    "    cv2.imshow('Face and Emotion Recognition', frame)\n",
    "    if cv2.waitKey(1) & 0xFF == ord('q'):\n",
    "        break\n",
    "\n",
    "cap.release()\n",
    "cv2.destroyAllWindows()"
   ]
  },
  {
   "cell_type": "code",
   "execution_count": null,
   "id": "6875aada-3d00-42d3-8a5e-65dd6d1aea5f",
   "metadata": {},
   "outputs": [],
   "source": []
  }
 ],
 "metadata": {
  "kernelspec": {
   "display_name": "Python 3 (ipykernel)",
   "language": "python",
   "name": "python3"
  },
  "language_info": {
   "codemirror_mode": {
    "name": "ipython",
    "version": 3
   },
   "file_extension": ".py",
   "mimetype": "text/x-python",
   "name": "python",
   "nbconvert_exporter": "python",
   "pygments_lexer": "ipython3",
   "version": "3.12.3"
  }
 },
 "nbformat": 4,
 "nbformat_minor": 5
}
